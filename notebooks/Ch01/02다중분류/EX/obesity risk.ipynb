{
 "cells": [
  {
   "cell_type": "code",
   "execution_count": 1,
   "id": "a5f54365-dc1d-4d1c-9507-ff2845610c2c",
   "metadata": {},
   "outputs": [],
   "source": [
    "# 파일 불러오기\n",
    "\n",
    "import pandas as pd\n",
    "\n",
    "train = pd.read_csv('./train (1).csv')\n",
    "test = pd.read_csv('./test (1).csv')"
   ]
  },
  {
   "cell_type": "markdown",
   "id": "47b62523-0e8b-48a9-8b1d-aaad3875545b",
   "metadata": {},
   "source": [
    "## EDA"
   ]
  },
  {
   "cell_type": "code",
   "execution_count": 2,
   "id": "9cb783b1-967f-4da9-89cc-700edfc43994",
   "metadata": {},
   "outputs": [
    {
     "data": {
      "text/plain": [
       "0"
      ]
     },
     "execution_count": 2,
     "metadata": {},
     "output_type": "execute_result"
    }
   ],
   "source": [
    "# 결측치 확인 -> 없음\n",
    "\n",
    "train.isnull().sum().sum()"
   ]
  },
  {
   "cell_type": "code",
   "execution_count": 3,
   "id": "c78c2c23-d16b-4647-bdec-2f38187b129a",
   "metadata": {},
   "outputs": [
    {
     "data": {
      "text/plain": [
       "0"
      ]
     },
     "execution_count": 3,
     "metadata": {},
     "output_type": "execute_result"
    }
   ],
   "source": [
    "test.isnull().sum().sum()"
   ]
  },
  {
   "cell_type": "code",
   "execution_count": 4,
   "id": "5c82be6e-e1a9-47a6-b320-9a5d1c0337d8",
   "metadata": {},
   "outputs": [
    {
     "data": {
      "text/html": [
       "<div>\n",
       "<style scoped>\n",
       "    .dataframe tbody tr th:only-of-type {\n",
       "        vertical-align: middle;\n",
       "    }\n",
       "\n",
       "    .dataframe tbody tr th {\n",
       "        vertical-align: top;\n",
       "    }\n",
       "\n",
       "    .dataframe thead th {\n",
       "        text-align: right;\n",
       "    }\n",
       "</style>\n",
       "<table border=\"1\" class=\"dataframe\">\n",
       "  <thead>\n",
       "    <tr style=\"text-align: right;\">\n",
       "      <th></th>\n",
       "      <th>id</th>\n",
       "      <th>Age</th>\n",
       "      <th>Height</th>\n",
       "      <th>Weight</th>\n",
       "      <th>FCVC</th>\n",
       "      <th>NCP</th>\n",
       "      <th>CH2O</th>\n",
       "      <th>FAF</th>\n",
       "      <th>TUE</th>\n",
       "    </tr>\n",
       "  </thead>\n",
       "  <tbody>\n",
       "    <tr>\n",
       "      <th>count</th>\n",
       "      <td>20758.00000</td>\n",
       "      <td>20758.000000</td>\n",
       "      <td>20758.000000</td>\n",
       "      <td>20758.000000</td>\n",
       "      <td>20758.000000</td>\n",
       "      <td>20758.000000</td>\n",
       "      <td>20758.000000</td>\n",
       "      <td>20758.000000</td>\n",
       "      <td>20758.000000</td>\n",
       "    </tr>\n",
       "    <tr>\n",
       "      <th>mean</th>\n",
       "      <td>10378.50000</td>\n",
       "      <td>23.841804</td>\n",
       "      <td>1.700245</td>\n",
       "      <td>87.887768</td>\n",
       "      <td>2.445908</td>\n",
       "      <td>2.761332</td>\n",
       "      <td>2.029418</td>\n",
       "      <td>0.981747</td>\n",
       "      <td>0.616756</td>\n",
       "    </tr>\n",
       "    <tr>\n",
       "      <th>std</th>\n",
       "      <td>5992.46278</td>\n",
       "      <td>5.688072</td>\n",
       "      <td>0.087312</td>\n",
       "      <td>26.379443</td>\n",
       "      <td>0.533218</td>\n",
       "      <td>0.705375</td>\n",
       "      <td>0.608467</td>\n",
       "      <td>0.838302</td>\n",
       "      <td>0.602113</td>\n",
       "    </tr>\n",
       "    <tr>\n",
       "      <th>min</th>\n",
       "      <td>0.00000</td>\n",
       "      <td>14.000000</td>\n",
       "      <td>1.450000</td>\n",
       "      <td>39.000000</td>\n",
       "      <td>1.000000</td>\n",
       "      <td>1.000000</td>\n",
       "      <td>1.000000</td>\n",
       "      <td>0.000000</td>\n",
       "      <td>0.000000</td>\n",
       "    </tr>\n",
       "    <tr>\n",
       "      <th>25%</th>\n",
       "      <td>5189.25000</td>\n",
       "      <td>20.000000</td>\n",
       "      <td>1.631856</td>\n",
       "      <td>66.000000</td>\n",
       "      <td>2.000000</td>\n",
       "      <td>3.000000</td>\n",
       "      <td>1.792022</td>\n",
       "      <td>0.008013</td>\n",
       "      <td>0.000000</td>\n",
       "    </tr>\n",
       "    <tr>\n",
       "      <th>50%</th>\n",
       "      <td>10378.50000</td>\n",
       "      <td>22.815416</td>\n",
       "      <td>1.700000</td>\n",
       "      <td>84.064875</td>\n",
       "      <td>2.393837</td>\n",
       "      <td>3.000000</td>\n",
       "      <td>2.000000</td>\n",
       "      <td>1.000000</td>\n",
       "      <td>0.573887</td>\n",
       "    </tr>\n",
       "    <tr>\n",
       "      <th>75%</th>\n",
       "      <td>15567.75000</td>\n",
       "      <td>26.000000</td>\n",
       "      <td>1.762887</td>\n",
       "      <td>111.600553</td>\n",
       "      <td>3.000000</td>\n",
       "      <td>3.000000</td>\n",
       "      <td>2.549617</td>\n",
       "      <td>1.587406</td>\n",
       "      <td>1.000000</td>\n",
       "    </tr>\n",
       "    <tr>\n",
       "      <th>max</th>\n",
       "      <td>20757.00000</td>\n",
       "      <td>61.000000</td>\n",
       "      <td>1.975663</td>\n",
       "      <td>165.057269</td>\n",
       "      <td>3.000000</td>\n",
       "      <td>4.000000</td>\n",
       "      <td>3.000000</td>\n",
       "      <td>3.000000</td>\n",
       "      <td>2.000000</td>\n",
       "    </tr>\n",
       "  </tbody>\n",
       "</table>\n",
       "</div>"
      ],
      "text/plain": [
       "                id           Age        Height        Weight          FCVC  \\\n",
       "count  20758.00000  20758.000000  20758.000000  20758.000000  20758.000000   \n",
       "mean   10378.50000     23.841804      1.700245     87.887768      2.445908   \n",
       "std     5992.46278      5.688072      0.087312     26.379443      0.533218   \n",
       "min        0.00000     14.000000      1.450000     39.000000      1.000000   \n",
       "25%     5189.25000     20.000000      1.631856     66.000000      2.000000   \n",
       "50%    10378.50000     22.815416      1.700000     84.064875      2.393837   \n",
       "75%    15567.75000     26.000000      1.762887    111.600553      3.000000   \n",
       "max    20757.00000     61.000000      1.975663    165.057269      3.000000   \n",
       "\n",
       "                NCP          CH2O           FAF           TUE  \n",
       "count  20758.000000  20758.000000  20758.000000  20758.000000  \n",
       "mean       2.761332      2.029418      0.981747      0.616756  \n",
       "std        0.705375      0.608467      0.838302      0.602113  \n",
       "min        1.000000      1.000000      0.000000      0.000000  \n",
       "25%        3.000000      1.792022      0.008013      0.000000  \n",
       "50%        3.000000      2.000000      1.000000      0.573887  \n",
       "75%        3.000000      2.549617      1.587406      1.000000  \n",
       "max        4.000000      3.000000      3.000000      2.000000  "
      ]
     },
     "execution_count": 4,
     "metadata": {},
     "output_type": "execute_result"
    }
   ],
   "source": [
    "train.describe()"
   ]
  },
  {
   "cell_type": "code",
   "execution_count": 5,
   "id": "f179f7bf-971e-46ab-8fa2-746c3916583a",
   "metadata": {},
   "outputs": [
    {
     "name": "stdout",
     "output_type": "stream",
     "text": [
      "<class 'pandas.core.frame.DataFrame'>\n",
      "RangeIndex: 20758 entries, 0 to 20757\n",
      "Data columns (total 18 columns):\n",
      " #   Column                          Non-Null Count  Dtype  \n",
      "---  ------                          --------------  -----  \n",
      " 0   id                              20758 non-null  int64  \n",
      " 1   Gender                          20758 non-null  object \n",
      " 2   Age                             20758 non-null  float64\n",
      " 3   Height                          20758 non-null  float64\n",
      " 4   Weight                          20758 non-null  float64\n",
      " 5   family_history_with_overweight  20758 non-null  object \n",
      " 6   FAVC                            20758 non-null  object \n",
      " 7   FCVC                            20758 non-null  float64\n",
      " 8   NCP                             20758 non-null  float64\n",
      " 9   CAEC                            20758 non-null  object \n",
      " 10  SMOKE                           20758 non-null  object \n",
      " 11  CH2O                            20758 non-null  float64\n",
      " 12  SCC                             20758 non-null  object \n",
      " 13  FAF                             20758 non-null  float64\n",
      " 14  TUE                             20758 non-null  float64\n",
      " 15  CALC                            20758 non-null  object \n",
      " 16  MTRANS                          20758 non-null  object \n",
      " 17  NObeyesdad                      20758 non-null  object \n",
      "dtypes: float64(8), int64(1), object(9)\n",
      "memory usage: 2.9+ MB\n"
     ]
    }
   ],
   "source": [
    "train.info()\n",
    "\n",
    "# 범주형\n",
    "# Gender, family_history_with_overweight, FAVC, CAEC, SMOKE, SCC, CALC, MTRANS"
   ]
  },
  {
   "cell_type": "code",
   "execution_count": 6,
   "id": "a50d969e-1576-48fc-9569-571bd8cb595a",
   "metadata": {},
   "outputs": [
    {
     "data": {
      "text/html": [
       "<div>\n",
       "<style scoped>\n",
       "    .dataframe tbody tr th:only-of-type {\n",
       "        vertical-align: middle;\n",
       "    }\n",
       "\n",
       "    .dataframe tbody tr th {\n",
       "        vertical-align: top;\n",
       "    }\n",
       "\n",
       "    .dataframe thead th {\n",
       "        text-align: right;\n",
       "    }\n",
       "</style>\n",
       "<table border=\"1\" class=\"dataframe\">\n",
       "  <thead>\n",
       "    <tr style=\"text-align: right;\">\n",
       "      <th></th>\n",
       "      <th>Gender</th>\n",
       "      <th>family_history_with_overweight</th>\n",
       "      <th>FAVC</th>\n",
       "      <th>CAEC</th>\n",
       "      <th>SMOKE</th>\n",
       "      <th>SCC</th>\n",
       "      <th>CALC</th>\n",
       "      <th>MTRANS</th>\n",
       "      <th>NObeyesdad</th>\n",
       "    </tr>\n",
       "  </thead>\n",
       "  <tbody>\n",
       "    <tr>\n",
       "      <th>count</th>\n",
       "      <td>20758</td>\n",
       "      <td>20758</td>\n",
       "      <td>20758</td>\n",
       "      <td>20758</td>\n",
       "      <td>20758</td>\n",
       "      <td>20758</td>\n",
       "      <td>20758</td>\n",
       "      <td>20758</td>\n",
       "      <td>20758</td>\n",
       "    </tr>\n",
       "    <tr>\n",
       "      <th>unique</th>\n",
       "      <td>2</td>\n",
       "      <td>2</td>\n",
       "      <td>2</td>\n",
       "      <td>4</td>\n",
       "      <td>2</td>\n",
       "      <td>2</td>\n",
       "      <td>3</td>\n",
       "      <td>5</td>\n",
       "      <td>7</td>\n",
       "    </tr>\n",
       "    <tr>\n",
       "      <th>top</th>\n",
       "      <td>Female</td>\n",
       "      <td>yes</td>\n",
       "      <td>yes</td>\n",
       "      <td>Sometimes</td>\n",
       "      <td>no</td>\n",
       "      <td>no</td>\n",
       "      <td>Sometimes</td>\n",
       "      <td>Public_Transportation</td>\n",
       "      <td>Obesity_Type_III</td>\n",
       "    </tr>\n",
       "    <tr>\n",
       "      <th>freq</th>\n",
       "      <td>10422</td>\n",
       "      <td>17014</td>\n",
       "      <td>18982</td>\n",
       "      <td>17529</td>\n",
       "      <td>20513</td>\n",
       "      <td>20071</td>\n",
       "      <td>15066</td>\n",
       "      <td>16687</td>\n",
       "      <td>4046</td>\n",
       "    </tr>\n",
       "  </tbody>\n",
       "</table>\n",
       "</div>"
      ],
      "text/plain": [
       "        Gender family_history_with_overweight   FAVC       CAEC  SMOKE    SCC  \\\n",
       "count    20758                          20758  20758      20758  20758  20758   \n",
       "unique       2                              2      2          4      2      2   \n",
       "top     Female                            yes    yes  Sometimes     no     no   \n",
       "freq     10422                          17014  18982      17529  20513  20071   \n",
       "\n",
       "             CALC                 MTRANS        NObeyesdad  \n",
       "count       20758                  20758             20758  \n",
       "unique          3                      5                 7  \n",
       "top     Sometimes  Public_Transportation  Obesity_Type_III  \n",
       "freq        15066                  16687              4046  "
      ]
     },
     "execution_count": 6,
     "metadata": {},
     "output_type": "execute_result"
    }
   ],
   "source": [
    "train.describe(include = \"O\")"
   ]
  },
  {
   "cell_type": "markdown",
   "id": "be259863-1d05-4eb4-9711-58738a456145",
   "metadata": {},
   "source": [
    "## 데이터 전처리"
   ]
  },
  {
   "cell_type": "code",
   "execution_count": 7,
   "id": "efef033e-7c09-441f-885e-dfaff4883b41",
   "metadata": {},
   "outputs": [],
   "source": [
    "train = train.drop(columns = ['id'])"
   ]
  },
  {
   "cell_type": "code",
   "execution_count": 8,
   "id": "1bbd7419-05bb-4036-84c7-9fa6eb39dbc2",
   "metadata": {},
   "outputs": [],
   "source": [
    "test = test.drop(columns = ['id'])\n"
   ]
  },
  {
   "cell_type": "code",
   "execution_count": 10,
   "id": "abcacb3f-7601-4bcd-8508-da786e3227c2",
   "metadata": {},
   "outputs": [],
   "source": [
    "category_cols = [\n",
    "                'Gender',\n",
    "                'family_history_with_overweight',\n",
    "                'FAVC',\n",
    "                'CAEC',\n",
    "                'SMOKE',\n",
    "                'SCC',\n",
    "                'CALC',\n",
    "                'MTRANS',\n",
    "                'NObeyesdad']\n",
    "\n",
    "for col in category_cols: \n",
    "    train[col] = train[col].astype('category')\n",
    "    \n",
    "\n",
    "# train[category_cols] = train[category_cols].astype('category')"
   ]
  },
  {
   "cell_type": "code",
   "execution_count": 11,
   "id": "9e96fab3-e9c2-4fbf-a496-27d13ec4152e",
   "metadata": {},
   "outputs": [],
   "source": [
    "category_cols = [\n",
    "                'Gender',\n",
    "                'family_history_with_overweight',\n",
    "                'FAVC',\n",
    "                'CAEC',\n",
    "                'SMOKE',\n",
    "                'SCC',\n",
    "                'CALC',\n",
    "                'MTRANS',\n",
    "                    ]\n",
    "\n",
    "for col in category_cols: \n",
    "    test[col] = test[col].astype('category')\n",
    "    \n",
    "\n",
    "# test[category_cols] = test[category_cols].astype('category')"
   ]
  },
  {
   "cell_type": "code",
   "execution_count": 13,
   "id": "51facbd2-3032-4a92-abdc-78a2de316b09",
   "metadata": {},
   "outputs": [
    {
     "name": "stdout",
     "output_type": "stream",
     "text": [
      "<class 'pandas.core.frame.DataFrame'>\n",
      "RangeIndex: 20758 entries, 0 to 20757\n",
      "Data columns (total 17 columns):\n",
      " #   Column                          Non-Null Count  Dtype   \n",
      "---  ------                          --------------  -----   \n",
      " 0   Gender                          20758 non-null  category\n",
      " 1   Age                             20758 non-null  float64 \n",
      " 2   Height                          20758 non-null  float64 \n",
      " 3   Weight                          20758 non-null  float64 \n",
      " 4   family_history_with_overweight  20758 non-null  category\n",
      " 5   FAVC                            20758 non-null  category\n",
      " 6   FCVC                            20758 non-null  float64 \n",
      " 7   NCP                             20758 non-null  float64 \n",
      " 8   CAEC                            20758 non-null  category\n",
      " 9   SMOKE                           20758 non-null  category\n",
      " 10  CH2O                            20758 non-null  float64 \n",
      " 11  SCC                             20758 non-null  category\n",
      " 12  FAF                             20758 non-null  float64 \n",
      " 13  TUE                             20758 non-null  float64 \n",
      " 14  CALC                            20758 non-null  category\n",
      " 15  MTRANS                          20758 non-null  category\n",
      " 16  NObeyesdad                      20758 non-null  category\n",
      "dtypes: category(9), float64(8)\n",
      "memory usage: 1.4 MB\n"
     ]
    }
   ],
   "source": [
    "train.info()"
   ]
  },
  {
   "cell_type": "code",
   "execution_count": 14,
   "id": "d0ac94ec-a94e-4ecc-a82f-22ec859dd20d",
   "metadata": {},
   "outputs": [
    {
     "name": "stdout",
     "output_type": "stream",
     "text": [
      "<class 'pandas.core.frame.DataFrame'>\n",
      "RangeIndex: 13840 entries, 0 to 13839\n",
      "Data columns (total 16 columns):\n",
      " #   Column                          Non-Null Count  Dtype   \n",
      "---  ------                          --------------  -----   \n",
      " 0   Gender                          13840 non-null  category\n",
      " 1   Age                             13840 non-null  float64 \n",
      " 2   Height                          13840 non-null  float64 \n",
      " 3   Weight                          13840 non-null  float64 \n",
      " 4   family_history_with_overweight  13840 non-null  category\n",
      " 5   FAVC                            13840 non-null  category\n",
      " 6   FCVC                            13840 non-null  float64 \n",
      " 7   NCP                             13840 non-null  float64 \n",
      " 8   CAEC                            13840 non-null  category\n",
      " 9   SMOKE                           13840 non-null  category\n",
      " 10  CH2O                            13840 non-null  float64 \n",
      " 11  SCC                             13840 non-null  category\n",
      " 12  FAF                             13840 non-null  float64 \n",
      " 13  TUE                             13840 non-null  float64 \n",
      " 14  CALC                            13840 non-null  category\n",
      " 15  MTRANS                          13840 non-null  category\n",
      "dtypes: category(8), float64(8)\n",
      "memory usage: 974.5 KB\n"
     ]
    }
   ],
   "source": [
    "test.info()"
   ]
  },
  {
   "cell_type": "code",
   "execution_count": 15,
   "id": "4d9d0462-644f-494a-8052-9439acf4e3fb",
   "metadata": {},
   "outputs": [],
   "source": [
    "y_train = train.pop('NObeyesdad')"
   ]
  },
  {
   "cell_type": "code",
   "execution_count": 19,
   "id": "fe4455f8-aeb4-4b98-bedb-29e78493eb05",
   "metadata": {},
   "outputs": [
    {
     "data": {
      "text/plain": [
       "((16606, 16), (4152, 16), (16606,), (4152,))"
      ]
     },
     "execution_count": 19,
     "metadata": {},
     "output_type": "execute_result"
    }
   ],
   "source": [
    "from sklearn.model_selection import train_test_split\n",
    "\n",
    "X_train, X_val, y_train, y_val = train_test_split(train,\n",
    "                                                  y_train,\n",
    "                                                  test_size=0.2,\n",
    "                                                  random_state=0)\n",
    "X_train.shape, X_val.shape, y_train.shape, y_val.shape"
   ]
  },
  {
   "cell_type": "code",
   "execution_count": 20,
   "id": "103bcf30-a40d-4c91-b9be-5882ddaca62d",
   "metadata": {},
   "outputs": [
    {
     "data": {
      "text/plain": [
       "array([[2.90805551e-08, 6.39602101e-08, 4.10839722e-06, ...,\n",
       "        9.99994651e-01, 1.12529061e-07, 5.59060834e-07],\n",
       "       [8.63231635e-05, 4.50222123e-02, 1.75378930e-03, ...,\n",
       "        1.31236325e-04, 9.45185222e-01, 7.79864404e-03],\n",
       "       [1.12499905e-02, 9.88092184e-01, 1.00491286e-04, ...,\n",
       "        1.41198513e-05, 4.71605137e-04, 6.07612347e-05],\n",
       "       ...,\n",
       "       [5.75651615e-08, 1.10722587e-07, 4.03152631e-06, ...,\n",
       "        9.99994161e-01, 1.14170031e-07, 4.40521512e-07],\n",
       "       [1.15931447e-05, 1.33438111e-05, 2.85902112e-03, ...,\n",
       "        1.19446978e-06, 1.52928117e-05, 4.53855722e-05],\n",
       "       [3.90555211e-05, 1.64299527e-04, 9.34856361e-01, ...,\n",
       "        1.79325944e-05, 2.26256282e-03, 6.17659318e-02]])"
      ]
     },
     "execution_count": 20,
     "metadata": {},
     "output_type": "execute_result"
    }
   ],
   "source": [
    "import lightgbm as lgb\n",
    "# 학습\n",
    "lgbmc = lgb.LGBMClassifier(random_state=0, verbose=-1)\n",
    "lgbmc.fit(X_train, y_train)\n",
    "# 검증\n",
    "pred = lgbmc.predict(X_val)\n",
    "pred_proba = lgbmc.predict_proba(X_val)\n",
    "\n",
    "# verbose : 학습과정 출력여부\n",
    "# 0: 경고수준출력 1: 일반정보 출력, >2: 제사한 정보 출력\n",
    "pred_proba"
   ]
  },
  {
   "cell_type": "code",
   "execution_count": 21,
   "id": "2381ceaf-a758-468b-9299-30749d2558e1",
   "metadata": {},
   "outputs": [
    {
     "name": "stdout",
     "output_type": "stream",
     "text": [
      "roc_auc_ovr:  0.9888169248146651\n",
      "roc_auc_ovo:  0.9874571729788963\n",
      "accuracy:  0.9051059730250481\n",
      "f1:  0.8949765427420396\n"
     ]
    }
   ],
   "source": [
    "from sklearn.metrics import accuracy_score\n",
    "from sklearn.metrics import f1_score\n",
    "from sklearn.metrics import roc_auc_score\n",
    "\n",
    "roc_auc_ovr = roc_auc_score(y_val, pred_proba, multi_class=\"ovr\")\n",
    "roc_auc_ovo = roc_auc_score(y_val, pred_proba, multi_class=\"ovo\")\n",
    "accuracy = accuracy_score(y_val, pred) # pred 예측 y값\n",
    "f1 = f1_score(y_val, pred, average = 'macro') # pred 예측 y값(클래스별(1,2,3정답값) 성능을 동등하게 반영)\n",
    "\n",
    "print('roc_auc_ovr: ', roc_auc_ovr)\n",
    "print('roc_auc_ovo: ', roc_auc_ovo)\n",
    "print('accuracy: ', accuracy)\n",
    "print('f1: ', f1)"
   ]
  },
  {
   "cell_type": "code",
   "execution_count": 22,
   "id": "fa98163f-8c5f-4e05-a0aa-a8956eb3fe44",
   "metadata": {},
   "outputs": [],
   "source": [
    "pred_submit = lgbmc.predict(test)\n",
    "pred_submit\n",
    "\n",
    "submit_csv = pd.DataFrame({'pred':pred_submit})\n",
    "submit_csv.to_csv(\"result.csv\", index = False)"
   ]
  },
  {
   "cell_type": "code",
   "execution_count": null,
   "id": "3259b30b-d235-41f3-91d8-8b34fccbd429",
   "metadata": {},
   "outputs": [],
   "source": []
  }
 ],
 "metadata": {
  "kernelspec": {
   "display_name": "Python 3 (ipykernel)",
   "language": "python",
   "name": "python3"
  },
  "language_info": {
   "codemirror_mode": {
    "name": "ipython",
    "version": 3
   },
   "file_extension": ".py",
   "mimetype": "text/x-python",
   "name": "python",
   "nbconvert_exporter": "python",
   "pygments_lexer": "ipython3",
   "version": "3.11.6"
  }
 },
 "nbformat": 4,
 "nbformat_minor": 5
}
