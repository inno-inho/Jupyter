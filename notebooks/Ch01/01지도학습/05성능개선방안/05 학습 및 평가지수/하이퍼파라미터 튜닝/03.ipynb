{
 "cells": [
  {
   "cell_type": "code",
   "execution_count": 2,
   "id": "bb775e25-e917-4414-9139-3fa172277f0c",
   "metadata": {},
   "outputs": [],
   "source": [
    "# ----------------------------------------------------------------------\n",
    "# Optuna (베이지안 최적화 기반) 정의 및 원리\n",
    "# ----------------------------------------------------------------------\n",
    "\n",
    "# 1. 정의:\n",
    "# - 이전 시도의 평가 결과를 바탕으로 다음 시도에 가장 성능이 좋을 것으로 '예측'되는 조합을 '지능적으로' 선택하여 탐색하는 베이지안 최적화 기반 프레임워크.\n",
    "# - Random Search보다 훨씬 적은 반복만으로 최적의 하이퍼파라미터를 찾을 수 있어 가장 효율적임.\n",
    "\n",
    "# 2. 핵심 원리:\n",
    "# - Define-by-Run: 탐색 공간을 미리 고정하지 않고, 튜닝 과정(Run-time) 중에 동적으로(조건에 따라) 정의할 수 있음.\n",
    "# - 베이지안 최적화: 확률 모델(대리 모델)을 사용하여 탐색할 다음 위치를 결정.\n",
    "#   - 탐험 (Exploration): 아직 시도해보지 않은 새로운 영역을 탐색.\n",
    "#   - 활용 (Exploitation): 이전에 성능이 좋았던 영역 주변을 집중적으로 탐색.\n",
    "#   - Optuna는 이 두 가지를 균형 있게 수행하여 효율을 극대화함.\n",
    "\n",
    "# 3. 주요 요소:\n",
    "# - Study (스터디): 전체 최적화 세션을 관리하는 객체. 최적화 방향(maximize/minimize)을 정의함.\n",
    "# - Trial (시행): 한 번의 하이퍼파라미터 조합을 시도하고 평가하는 과정.\n",
    "# - Objective Function (목적 함수): Optuna로부터 제안받은 조합으로 모델을 학습시키고, 최적화할 점수(Scalar Value)를 반환하는 함수. (Optuna가 이 값을 최대화 또는 최소화하려고 시도함)\n",
    "\n",
    "# 4. 장점:\n",
    "# - 높은 효율성: 비효율적인 영역 탐색을 피하여 시간과 자원을 크게 절약.\n",
    "# - 유연성: 조건부 파라미터나 복잡한 탐색 공간을 동적으로 처리 가능.\n",
    "# - 강력한 시각화: 탐색 과정을 시각적으로 분석할 수 있는 다양한 도구 제공."
   ]
  },
  {
   "cell_type": "code",
   "execution_count": 3,
   "id": "25ef924d-ce02-43c3-83c8-4f0a99b6d535",
   "metadata": {},
   "outputs": [
    {
     "name": "stdout",
     "output_type": "stream",
     "text": [
      "--- 데이터 준비 완료 ---\n"
     ]
    }
   ],
   "source": [
    "# --------------------\n",
    "#  라이브러리 및 데이터 준비\n",
    "# --------------------\n",
    "# pip install optuna scikit-learn\n",
    "import optuna\n",
    "from sklearn.ensemble import RandomForestClassifier\n",
    "from sklearn.datasets import load_iris\n",
    "from sklearn.model_selection import cross_val_score, train_test_split\n",
    "\n",
    "# Iris 데이터셋 로드\n",
    "iris = load_iris()\n",
    "X, y = iris.data, iris.target\n",
    "\n",
    "# 데이터 분할\n",
    "X_train, X_test, y_train, y_test = train_test_split(X, y, test_size=0.3, random_state=42)\n",
    "\n",
    "print(\"--- 데이터 준비 완료 ---\")"
   ]
  },
  {
   "cell_type": "code",
   "execution_count": 4,
   "id": "1cc58637-b890-4bdb-86c4-a8991c6d381f",
   "metadata": {},
   "outputs": [
    {
     "name": "stdout",
     "output_type": "stream",
     "text": [
      "\n",
      "--- 2단계: 목적 함수 정의 완료 ---\n"
     ]
    }
   ],
   "source": [
    "# --------------------\n",
    "# 2단계: 목적 함수 (Objective Function) 정의\n",
    "# --------------------\n",
    "def objective(trial):\n",
    "    \"\"\"\n",
    "    Optuna로부터 하이퍼파라미터를 제안받아 모델을 평가하고 점수를 반환하는 함수.\n",
    "    \"\"\"\n",
    "    \n",
    "    # 1. 하이퍼파라미터 탐색 공간 정의 (trial.suggest_*)\n",
    "    # Optuna는 이전에 평가된 결과를 바탕으로 다음에 시도할 최적의 값을 지능적으로 제안합니다.\n",
    "    n_estimators = trial.suggest_int('n_estimators', 100, 500)  # 정수형 범위 탐색\n",
    "    max_depth = trial.suggest_int('max_depth', 3, 10)           # 정수형 범위 탐색\n",
    "    min_samples_split = trial.suggest_float('min_samples_split', 0.01, 0.1) # 실수형 범위 탐색\n",
    "    \n",
    "    # 2. 모델 생성 및 교차 검증 평가\n",
    "    model = RandomForestClassifier(\n",
    "        n_estimators=n_estimators,\n",
    "        max_depth=max_depth,\n",
    "        min_samples_split=min_samples_split,\n",
    "        random_state=42\n",
    "    )\n",
    "    \n",
    "    # 5-Fold 교차 검증을 사용하여 정확도(Accuracy)를 평가\n",
    "    score = cross_val_score(model, X_train, y_train, cv=5, scoring='accuracy')\n",
    "    \n",
    "    # 교차 검증 점수의 평균을 반환 (Optuna는 이 값을 최대화하려고 시도함)\n",
    "    return score.mean()\n",
    "\n",
    "print(\"\\n--- 2단계: 목적 함수 정의 완료 ---\")"
   ]
  },
  {
   "cell_type": "code",
   "execution_count": 5,
   "id": "427777f0-0a46-4bc6-b521-3b2d639c02ca",
   "metadata": {},
   "outputs": [
    {
     "name": "stderr",
     "output_type": "stream",
     "text": [
      "[I 2025-10-17 01:53:37,222] A new study created in memory with name: no-name-281a2ffd-ce9a-417c-a40a-3a157f37d9c2\n"
     ]
    },
    {
     "data": {
      "application/vnd.jupyter.widget-view+json": {
       "model_id": "ab9464ccdd634b27bdfbacf40123e726",
       "version_major": 2,
       "version_minor": 0
      },
      "text/plain": [
       "  0%|          | 0/50 [00:00<?, ?it/s]"
      ]
     },
     "metadata": {},
     "output_type": "display_data"
    },
    {
     "name": "stdout",
     "output_type": "stream",
     "text": [
      "[I 2025-10-17 01:53:38,901] Trial 0 finished with value: 0.9428571428571428 and parameters: {'n_estimators': 385, 'max_depth': 7, 'min_samples_split': 0.07814120166062048}. Best is trial 0 with value: 0.9428571428571428.\n",
      "[I 2025-10-17 01:53:39,771] Trial 1 finished with value: 0.9428571428571428 and parameters: {'n_estimators': 203, 'max_depth': 6, 'min_samples_split': 0.019622489097828346}. Best is trial 0 with value: 0.9428571428571428.\n",
      "[I 2025-10-17 01:53:40,458] Trial 2 finished with value: 0.9428571428571428 and parameters: {'n_estimators': 164, 'max_depth': 4, 'min_samples_split': 0.01206588470131126}. Best is trial 0 with value: 0.9428571428571428.\n",
      "[I 2025-10-17 01:53:41,927] Trial 3 finished with value: 0.9428571428571428 and parameters: {'n_estimators': 348, 'max_depth': 5, 'min_samples_split': 0.026761099973832317}. Best is trial 0 with value: 0.9428571428571428.\n",
      "[I 2025-10-17 01:53:42,559] Trial 4 finished with value: 0.9428571428571428 and parameters: {'n_estimators': 152, 'max_depth': 5, 'min_samples_split': 0.03413587374265093}. Best is trial 0 with value: 0.9428571428571428.\n",
      "[I 2025-10-17 01:53:43,346] Trial 5 finished with value: 0.9428571428571428 and parameters: {'n_estimators': 191, 'max_depth': 9, 'min_samples_split': 0.04238811893774819}. Best is trial 0 with value: 0.9428571428571428.\n",
      "[I 2025-10-17 01:53:44,160] Trial 6 finished with value: 0.9428571428571428 and parameters: {'n_estimators': 197, 'max_depth': 10, 'min_samples_split': 0.07383854059400387}. Best is trial 0 with value: 0.9428571428571428.\n",
      "[I 2025-10-17 01:53:45,526] Trial 7 finished with value: 0.9428571428571428 and parameters: {'n_estimators': 333, 'max_depth': 4, 'min_samples_split': 0.028655278192663586}. Best is trial 0 with value: 0.9428571428571428.\n",
      "[I 2025-10-17 01:53:47,180] Trial 8 finished with value: 0.9428571428571428 and parameters: {'n_estimators': 396, 'max_depth': 4, 'min_samples_split': 0.016154930163825625}. Best is trial 0 with value: 0.9428571428571428.\n",
      "[I 2025-10-17 01:53:47,682] Trial 9 finished with value: 0.9428571428571428 and parameters: {'n_estimators': 121, 'max_depth': 9, 'min_samples_split': 0.06712034903377308}. Best is trial 0 with value: 0.9428571428571428.\n",
      "[I 2025-10-17 01:53:49,626] Trial 10 finished with value: 0.9428571428571428 and parameters: {'n_estimators': 480, 'max_depth': 7, 'min_samples_split': 0.09862010708077529}. Best is trial 0 with value: 0.9428571428571428.\n",
      "[I 2025-10-17 01:53:50,701] Trial 11 finished with value: 0.9428571428571428 and parameters: {'n_estimators': 259, 'max_depth': 7, 'min_samples_split': 0.08474839996393993}. Best is trial 0 with value: 0.9428571428571428.\n",
      "[I 2025-10-17 01:53:52,450] Trial 12 finished with value: 0.9428571428571428 and parameters: {'n_estimators': 422, 'max_depth': 6, 'min_samples_split': 0.05080216903422131}. Best is trial 0 with value: 0.9428571428571428.\n",
      "[I 2025-10-17 01:53:53,532] Trial 13 finished with value: 0.9428571428571428 and parameters: {'n_estimators': 263, 'max_depth': 8, 'min_samples_split': 0.06388749946625802}. Best is trial 0 with value: 0.9428571428571428.\n",
      "[I 2025-10-17 01:53:54,603] Trial 14 finished with value: 0.9428571428571428 and parameters: {'n_estimators': 261, 'max_depth': 6, 'min_samples_split': 0.08273036522245227}. Best is trial 0 with value: 0.9428571428571428.\n",
      "[I 2025-10-17 01:53:56,329] Trial 15 finished with value: 0.9428571428571428 and parameters: {'n_estimators': 413, 'max_depth': 8, 'min_samples_split': 0.053706148354016034}. Best is trial 0 with value: 0.9428571428571428.\n",
      "[I 2025-10-17 01:53:58,259] Trial 16 finished with value: 0.9428571428571428 and parameters: {'n_estimators': 471, 'max_depth': 3, 'min_samples_split': 0.09608752122990634}. Best is trial 0 with value: 0.9428571428571428.\n",
      "[I 2025-10-17 01:53:59,572] Trial 17 finished with value: 0.9428571428571428 and parameters: {'n_estimators': 311, 'max_depth': 8, 'min_samples_split': 0.04273116495584655}. Best is trial 0 with value: 0.9428571428571428.\n",
      "[I 2025-10-17 01:54:00,489] Trial 18 finished with value: 0.9428571428571428 and parameters: {'n_estimators': 215, 'max_depth': 6, 'min_samples_split': 0.08107356012488137}. Best is trial 0 with value: 0.9428571428571428.\n",
      "[I 2025-10-17 01:54:01,948] Trial 19 finished with value: 0.9428571428571428 and parameters: {'n_estimators': 349, 'max_depth': 7, 'min_samples_split': 0.06138311436295289}. Best is trial 0 with value: 0.9428571428571428.\n",
      "[I 2025-10-17 01:54:03,507] Trial 20 finished with value: 0.9428571428571428 and parameters: {'n_estimators': 380, 'max_depth': 5, 'min_samples_split': 0.07397624182821114}. Best is trial 0 with value: 0.9428571428571428.\n",
      "[I 2025-10-17 01:54:03,947] Trial 21 finished with value: 0.9333333333333333 and parameters: {'n_estimators': 104, 'max_depth': 3, 'min_samples_split': 0.010162588451989103}. Best is trial 0 with value: 0.9428571428571428.\n",
      "[I 2025-10-17 01:54:04,614] Trial 22 finished with value: 0.9428571428571428 and parameters: {'n_estimators': 158, 'max_depth': 4, 'min_samples_split': 0.0188499207656227}. Best is trial 0 with value: 0.9428571428571428.\n",
      "[I 2025-10-17 01:54:05,606] Trial 23 finished with value: 0.9428571428571428 and parameters: {'n_estimators': 232, 'max_depth': 5, 'min_samples_split': 0.01900885488132588}. Best is trial 0 with value: 0.9428571428571428.\n",
      "[I 2025-10-17 01:54:06,322] Trial 24 finished with value: 0.9428571428571428 and parameters: {'n_estimators': 165, 'max_depth': 6, 'min_samples_split': 0.012252920085740065}. Best is trial 0 with value: 0.9428571428571428.\n",
      "[I 2025-10-17 01:54:07,606] Trial 25 finished with value: 0.9428571428571428 and parameters: {'n_estimators': 300, 'max_depth': 7, 'min_samples_split': 0.025694912397648286}. Best is trial 0 with value: 0.9428571428571428.\n",
      "[I 2025-10-17 01:54:08,620] Trial 26 finished with value: 0.9428571428571428 and parameters: {'n_estimators': 238, 'max_depth': 4, 'min_samples_split': 0.0347390668133218}. Best is trial 0 with value: 0.9428571428571428.\n",
      "[I 2025-10-17 01:54:09,858] Trial 27 finished with value: 0.9428571428571428 and parameters: {'n_estimators': 294, 'max_depth': 3, 'min_samples_split': 0.04626506164152364}. Best is trial 0 with value: 0.9428571428571428.\n",
      "[I 2025-10-17 01:54:10,469] Trial 28 finished with value: 0.9428571428571428 and parameters: {'n_estimators': 144, 'max_depth': 9, 'min_samples_split': 0.08960115521636915}. Best is trial 0 with value: 0.9428571428571428.\n",
      "[I 2025-10-17 01:54:11,247] Trial 29 finished with value: 0.9428571428571428 and parameters: {'n_estimators': 184, 'max_depth': 5, 'min_samples_split': 0.02482505070678756}. Best is trial 0 with value: 0.9428571428571428.\n",
      "[I 2025-10-17 01:54:13,088] Trial 30 finished with value: 0.9428571428571428 and parameters: {'n_estimators': 448, 'max_depth': 8, 'min_samples_split': 0.035442309201056246}. Best is trial 0 with value: 0.9428571428571428.\n",
      "[I 2025-10-17 01:54:14,573] Trial 31 finished with value: 0.9428571428571428 and parameters: {'n_estimators': 362, 'max_depth': 5, 'min_samples_split': 0.02275996428145054}. Best is trial 0 with value: 0.9428571428571428.\n",
      "[I 2025-10-17 01:54:16,122] Trial 32 finished with value: 0.9428571428571428 and parameters: {'n_estimators': 375, 'max_depth': 6, 'min_samples_split': 0.03206705515550849}. Best is trial 0 with value: 0.9428571428571428.\n",
      "[I 2025-10-17 01:54:17,538] Trial 33 finished with value: 0.9428571428571428 and parameters: {'n_estimators': 336, 'max_depth': 4, 'min_samples_split': 0.014817824863961312}. Best is trial 0 with value: 0.9428571428571428.\n",
      "[I 2025-10-17 01:54:18,118] Trial 34 finished with value: 0.9428571428571428 and parameters: {'n_estimators': 138, 'max_depth': 5, 'min_samples_split': 0.03966994829207802}. Best is trial 0 with value: 0.9428571428571428.\n",
      "[I 2025-10-17 01:54:18,893] Trial 35 finished with value: 0.9428571428571428 and parameters: {'n_estimators': 187, 'max_depth': 4, 'min_samples_split': 0.020278401782977674}. Best is trial 0 with value: 0.9428571428571428.\n",
      "[I 2025-10-17 01:54:20,582] Trial 36 finished with value: 0.9428571428571428 and parameters: {'n_estimators': 403, 'max_depth': 10, 'min_samples_split': 0.029701197436791033}. Best is trial 0 with value: 0.9428571428571428.\n",
      "[I 2025-10-17 01:54:21,933] Trial 37 finished with value: 0.9428571428571428 and parameters: {'n_estimators': 322, 'max_depth': 6, 'min_samples_split': 0.07144063127354953}. Best is trial 0 with value: 0.9428571428571428.\n",
      "[I 2025-10-17 01:54:23,782] Trial 38 finished with value: 0.9428571428571428 and parameters: {'n_estimators': 440, 'max_depth': 7, 'min_samples_split': 0.05892203360511326}. Best is trial 0 with value: 0.9428571428571428.\n",
      "[I 2025-10-17 01:54:24,930] Trial 39 finished with value: 0.9428571428571428 and parameters: {'n_estimators': 278, 'max_depth': 4, 'min_samples_split': 0.016020868196454145}. Best is trial 0 with value: 0.9428571428571428.\n",
      "[I 2025-10-17 01:54:25,910] Trial 40 finished with value: 0.9428571428571428 and parameters: {'n_estimators': 226, 'max_depth': 5, 'min_samples_split': 0.026775302627313056}. Best is trial 0 with value: 0.9428571428571428.\n",
      "[I 2025-10-17 01:54:26,452] Trial 41 finished with value: 0.9428571428571428 and parameters: {'n_estimators': 116, 'max_depth': 5, 'min_samples_split': 0.03967180452397992}. Best is trial 0 with value: 0.9428571428571428.\n",
      "[I 2025-10-17 01:54:27,319] Trial 42 finished with value: 0.9428571428571428 and parameters: {'n_estimators': 203, 'max_depth': 6, 'min_samples_split': 0.04783884938737074}. Best is trial 0 with value: 0.9428571428571428.\n",
      "[I 2025-10-17 01:54:28,007] Trial 43 finished with value: 0.9428571428571428 and parameters: {'n_estimators': 161, 'max_depth': 4, 'min_samples_split': 0.021748498428617542}. Best is trial 0 with value: 0.9428571428571428.\n",
      "[I 2025-10-17 01:54:28,571] Trial 44 finished with value: 0.9428571428571428 and parameters: {'n_estimators': 132, 'max_depth': 5, 'min_samples_split': 0.014446289648471524}. Best is trial 0 with value: 0.9428571428571428.\n",
      "[I 2025-10-17 01:54:29,330] Trial 45 finished with value: 0.9428571428571428 and parameters: {'n_estimators': 180, 'max_depth': 6, 'min_samples_split': 0.030953193536037954}. Best is trial 0 with value: 0.9428571428571428.\n",
      "[I 2025-10-17 01:54:30,962] Trial 46 finished with value: 0.9428571428571428 and parameters: {'n_estimators': 385, 'max_depth': 7, 'min_samples_split': 0.037959010372460855}. Best is trial 0 with value: 0.9428571428571428.\n",
      "[I 2025-10-17 01:54:31,846] Trial 47 finished with value: 0.9428571428571428 and parameters: {'n_estimators': 207, 'max_depth': 8, 'min_samples_split': 0.05386218542806571}. Best is trial 0 with value: 0.9428571428571428.\n",
      "[I 2025-10-17 01:54:33,293] Trial 48 finished with value: 0.9428571428571428 and parameters: {'n_estimators': 346, 'max_depth': 3, 'min_samples_split': 0.0778456727476071}. Best is trial 0 with value: 0.9428571428571428.\n",
      "[I 2025-10-17 01:54:34,347] Trial 49 finished with value: 0.9428571428571428 and parameters: {'n_estimators': 250, 'max_depth': 7, 'min_samples_split': 0.010351993515815477}. Best is trial 0 with value: 0.9428571428571428.\n"
     ]
    }
   ],
   "source": [
    "# --------------------\n",
    "# 3단계: Optuna Study 실행 및 최적화\n",
    "# --------------------\n",
    "# direction=\"maximize\": 목적 함수의 반환값(정확도)을 최대화하도록 설정\n",
    "study = optuna.create_study(direction=\"maximize\") \n",
    "\n",
    "# optimize 실행: 목적 함수를 호출하여 50번의 반복(trial) 동안 최적의 조합을 탐색\n",
    "# n_trials=50: 총 50가지 조합만 시도 (Grid Search 대비 매우 효율적)\n",
    "study.optimize(objective, n_trials=50, show_progress_bar=True) "
   ]
  },
  {
   "cell_type": "code",
   "execution_count": 6,
   "id": "f4adaed1-71ac-474b-913d-35ce5b90b222",
   "metadata": {},
   "outputs": [
    {
     "name": "stdout",
     "output_type": "stream",
     "text": [
      "\n",
      "--- 4단계: 최적화 결과 확인 ---\n",
      "Best Parameters: {'n_estimators': 385, 'max_depth': 7, 'min_samples_split': 0.07814120166062048}\n",
      "Best CV Score (Accuracy): 0.9429\n",
      "Final Test Score: 1.0000\n"
     ]
    }
   ],
   "source": [
    "# --------------------\n",
    "# 4단계: 결과 확인\n",
    "# --------------------\n",
    "print(\"\\n--- 4단계: 최적화 결과 확인 ---\")\n",
    "# 최적의 하이퍼파라미터 조합 (Best Parameters)\n",
    "print(\"Best Parameters:\", study.best_params)\n",
    "\n",
    "# 해당 조합으로 얻은 최고 점수 (Best Value)\n",
    "print(f\"Best CV Score (Accuracy): {study.best_value:.4f}\")\n",
    "\n",
    "# 최종 모델 학습 (최적 파라미터를 사용하여 최종 모델 재학습)\n",
    "best_params = study.best_params\n",
    "final_model = RandomForestClassifier(**best_params, random_state=42)\n",
    "final_model.fit(X_train, y_train)\n",
    "\n",
    "final_test_score = final_model.score(X_test, y_test)\n",
    "print(f\"Final Test Score: {final_test_score:.4f}\")"
   ]
  }
 ],
 "metadata": {
  "kernelspec": {
   "display_name": "Python 3 (ipykernel)",
   "language": "python",
   "name": "python3"
  },
  "language_info": {
   "codemirror_mode": {
    "name": "ipython",
    "version": 3
   },
   "file_extension": ".py",
   "mimetype": "text/x-python",
   "name": "python",
   "nbconvert_exporter": "python",
   "pygments_lexer": "ipython3",
   "version": "3.11.6"
  }
 },
 "nbformat": 4,
 "nbformat_minor": 5
}
