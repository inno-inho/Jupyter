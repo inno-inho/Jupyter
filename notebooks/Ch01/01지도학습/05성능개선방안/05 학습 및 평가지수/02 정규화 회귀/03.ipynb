{
 "cells": [
  {
   "cell_type": "code",
   "execution_count": 1,
   "id": "19143c18-513d-4e57-876e-d9219a0ab7ed",
   "metadata": {},
   "outputs": [
    {
     "name": "stdout",
     "output_type": "stream",
     "text": [
      "--- 학습 데이터 크기 ---\n",
      "X_train: (35, 10), y_train: (35,)\n"
     ]
    }
   ],
   "source": [
    "# --------------------\n",
    "#  라이브러리 및 데이터 준비\n",
    "# --------------------\n",
    "import numpy as np\n",
    "import pandas as pd\n",
    "from sklearn.linear_model import ElasticNet # ElasticNet 회귀 모델\n",
    "from sklearn.model_selection import train_test_split\n",
    "from sklearn.preprocessing import StandardScaler\n",
    "\n",
    "# 예시 데이터 생성 (특성 10개, 샘플 50개)\n",
    "rng = np.random.RandomState(42)\n",
    "X = rng.rand(50, 10) * 10\n",
    "# 타겟값 생성: Feature0, Feature5만 영향을 주고, Feature1, Feature2는 상관관계가 높다고 가정\n",
    "X[:, 1] = X[:, 2] * 0.95 + rng.rand(50) * 0.5 # 다중 공선성 추가\n",
    "y = 3 * X[:, 0] - 2 * X[:, 5] + 1 + rng.randn(50) * 5 \n",
    "\n",
    "# 데이터 분리\n",
    "X_train, X_test, y_train, y_test = train_test_split(X, y, test_size=0.3, random_state=42)\n",
    "\n",
    "print(\"--- 학습 데이터 크기 ---\")\n",
    "print(f\"X_train: {X_train.shape}, y_train: {y_train.shape}\")"
   ]
  },
  {
   "cell_type": "code",
   "execution_count": 2,
   "id": "0223765d-3c98-463f-a795-6b636122f0e2",
   "metadata": {},
   "outputs": [
    {
     "name": "stdout",
     "output_type": "stream",
     "text": [
      "\n",
      "--- 2단계: 스케일링 완료 ---\n"
     ]
    }
   ],
   "source": [
    "# --------------------\n",
    "#  2단계: 데이터 스케일링 (표준화)\n",
    "# --------------------\n",
    "scaler = StandardScaler()\n",
    "# 학습 데이터에 fit 후 transform\n",
    "X_train_scaled = scaler.fit_transform(X_train)\n",
    "# 테스트 데이터는 fit 없이 transform만\n",
    "X_test_scaled = scaler.transform(X_test)\n",
    "\n",
    "print(\"\\n--- 2단계: 스케일링 완료 ---\")"
   ]
  },
  {
   "cell_type": "code",
   "execution_count": 3,
   "id": "bb94e2f9-c681-4e5e-b8d6-78862333f3be",
   "metadata": {},
   "outputs": [
    {
     "name": "stdout",
     "output_type": "stream",
     "text": [
      "\n",
      "--- 3단계: 학습된 회귀 계수 (β) ---\n",
      "[ 8.08511169 -0.65341159 -0.16181936 -0.37043579 -0.72804464 -4.76869193\n",
      " -0.          0.28498394 -1.09494374  0.        ]\n"
     ]
    }
   ],
   "source": [
    "# --------------------\n",
    "#  3단계: ElasticNet 모델 학습 및 계수 확인\n",
    "# --------------------\n",
    "# alpha=0.5: 전체 규제 강도 설정 (λ)\n",
    "# l1_ratio=0.7: L1 규제의 비율을 70%로 설정 (나머지 30%는 L2)\n",
    "enet_model = ElasticNet(alpha=0.5, l1_ratio=0.7, random_state=42) \n",
    "\n",
    "# 모델 학습\n",
    "enet_model.fit(X_train_scaled, y_train)\n",
    "\n",
    "# 학습된 회귀 계수 (가중치) 확인\n",
    "coefficients = enet_model.coef_\n",
    "\n",
    "print(\"\\n--- 3단계: 학습된 회귀 계수 (β) ---\")\n",
    "# ElasticNet은 0에 가까운 계수와 완전히 0인 계수(Lasso의 영향)가 모두 나타날 수 있습니다.\n",
    "print(coefficients)"
   ]
  },
  {
   "cell_type": "code",
   "execution_count": 4,
   "id": "c8f180b1-aafc-479f-a703-61e01b489354",
   "metadata": {},
   "outputs": [
    {
     "name": "stdout",
     "output_type": "stream",
     "text": [
      "\n",
      "--- 4단계: 모델 성능 평가 ---\n",
      "테스트 데이터 MSE (평균 제곱 오차): 34.9621\n"
     ]
    }
   ],
   "source": [
    "# --------------------\n",
    "#  4단계: 예측 및 성능 평가\n",
    "# --------------------\n",
    "from sklearn.metrics import mean_squared_error\n",
    "\n",
    "# 예측 수행\n",
    "y_pred = enet_model.predict(X_test_scaled)\n",
    "\n",
    "# 성능 평가 (MSE 사용)\n",
    "mse = mean_squared_error(y_test, y_pred)\n",
    "\n",
    "print(f\"\\n--- 4단계: 모델 성능 평가 ---\")\n",
    "print(f\"테스트 데이터 MSE (평균 제곱 오차): {mse:.4f}\")"
   ]
  }
 ],
 "metadata": {
  "kernelspec": {
   "display_name": "Python 3 (ipykernel)",
   "language": "python",
   "name": "python3"
  },
  "language_info": {
   "codemirror_mode": {
    "name": "ipython",
    "version": 3
   },
   "file_extension": ".py",
   "mimetype": "text/x-python",
   "name": "python",
   "nbconvert_exporter": "python",
   "pygments_lexer": "ipython3",
   "version": "3.11.6"
  }
 },
 "nbformat": 4,
 "nbformat_minor": 5
}
