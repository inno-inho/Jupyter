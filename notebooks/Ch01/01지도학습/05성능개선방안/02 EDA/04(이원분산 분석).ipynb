{
 "cells": [
  {
   "cell_type": "code",
   "execution_count": 1,
   "id": "f7994c65-1dd3-4054-8e40-6e7644978953",
   "metadata": {},
   "outputs": [
    {
     "name": "stdout",
     "output_type": "stream",
     "text": [
      "    나무  비료        성장률\n",
      "13   A   2  33.867198\n",
      "25   A   3  57.109226\n",
      "76   C   2  63.870471\n",
      "104  D   2  66.387143\n",
      "52   B   3  54.230780\n",
      "56   B   3  52.607825\n",
      "49   B   2  40.369598\n",
      "84   C   3  57.915064\n",
      "77   C   2  60.009926\n",
      "8    A   1  45.305256\n"
     ]
    }
   ],
   "source": [
    "import pandas as pd\n",
    "# df = pd.read_csv(\"tree.csv\")\n",
    "df = pd.read_csv(\"https://raw.githubusercontent.com/lovedlim/bigdata_analyst_cert/main/part3/ch2/tree.csv\")\n",
    "print(df.sample(10))\n"
   ]
  },
  {
   "cell_type": "code",
   "execution_count": 2,
   "id": "33778f3e-c632-44e8-89ef-0e8ce7c836a3",
   "metadata": {},
   "outputs": [
    {
     "name": "stdout",
     "output_type": "stream",
     "text": [
      "             df       sum_sq      mean_sq          F        PR(>F)\n",
      "나무          3.0  4783.353938  1594.451313  18.391274  9.016693e-10\n",
      "비료          1.0   873.322002   873.322002  10.073374  1.942421e-03\n",
      "나무:비료       3.0   394.801585   131.600528   1.517952  2.137666e-01\n",
      "Residual  112.0  9709.960792    86.696078        NaN           NaN\n"
     ]
    }
   ],
   "source": [
    "import statsmodels.api as sm\n",
    "from statsmodels.formula.api import ols\n",
    "\n",
    "model = ols('성장률 ~ 나무 + 비료 + 나무:비료', data=df).fit()\n",
    "anova_table = sm.stats.anova_lm(model)\n",
    "print(anova_table)\n"
   ]
  },
  {
   "cell_type": "code",
   "execution_count": null,
   "id": "a54e5ee2-a6d9-4f0f-9599-15253f227c37",
   "metadata": {},
   "outputs": [],
   "source": [
    "# '성장률 ~ 나무 + 비료 + 나무:비료'\n",
    "# 전체 구조: Y ~ X1 + X2 + X1:X2\n",
    "# | 구문      | 의미                                       |\n",
    "# | ------- | ---------------------------------------- |\n",
    "# | **`Y`** | 종속변수 (결과변수) — 여기서는 `성장률`                 |\n",
    "# | **`~`** | “~ 오른쪽에 있는 변수들이 왼쪽의 Y를 설명한다”는 의미         |\n",
    "# | **`+`** | 여러 독립변수를 함께 포함한다는 뜻                      |\n",
    "# | **`:`** | 두 변수 간의 **상호작용(Interaction)** 항을 포함한다는 뜻 |\n",
    "\n",
    "# | 항목        | 의미               | 설명                          |\n",
    "# | -------    | ------------       | --------------------------- |\n",
    "# | `성장률`    | 종속변수 (Y)        | 나무 종류, 비료 종류에 따라 달라지는 결과 변수 |\n",
    "# | `나무`      | 독립변수1 (요인 A)  | 예: 나무 종류 (소나무, 참나무 등)       |\n",
    "# | `비료`      | 독립변수2 (요인 B)  | 예: 비료 종류 (A, B, C 등)        |\n",
    "# | `나무:비료` | 상호작용항 (A×B)    | “나무 종류별로 비료 효과가 다르다”는 관계 포함 |"
   ]
  },
  {
   "cell_type": "code",
   "execution_count": 4,
   "id": "57455025-e5b4-4acb-b21c-f52b505a027b",
   "metadata": {},
   "outputs": [
    {
     "name": "stdout",
     "output_type": "stream",
     "text": [
      "                df       sum_sq      mean_sq          F        PR(>F)\n",
      "C(나무)          3.0  4783.353938  1594.451313  18.855528  6.600012e-10\n",
      "C(비료)          2.0  1127.924259   563.962129   6.669256  1.857612e-03\n",
      "C(나무):C(비료)    6.0   717.520672   119.586779   1.414199  2.157357e-01\n",
      "Residual     108.0  9132.639448    84.561476        NaN           NaN\n"
     ]
    }
   ],
   "source": [
    "import statsmodels.api as sm\n",
    "from statsmodels.formula.api import ols\n",
    "\n",
    "model = ols('성장률 ~ C(나무) + C(비료) + C(나무):C(비료)', data=df).fit()   # C(나무) 같은 C가 붙어있는거는 범주형으로 분석 들어간다는거(character )\n",
    "anova_table = sm.stats.anova_lm(model)\n",
    "print(anova_table)\n"
   ]
  },
  {
   "cell_type": "code",
   "execution_count": 5,
   "id": "5d8893c4-89e4-4235-b932-9d01abcb5a4a",
   "metadata": {},
   "outputs": [
    {
     "name": "stdout",
     "output_type": "stream",
     "text": [
      "0.00000000066\n",
      "0.00185761200\n",
      "0.21573570000\n"
     ]
    }
   ],
   "source": [
    "print(format(6.600012e-10, '.11f'))\n",
    "print(format(1.857612e-03, '.11f'))\n",
    "print(format(2.157357e-01, '.11f'))\n"
   ]
  },
  {
   "cell_type": "code",
   "execution_count": 6,
   "id": "e9d5f268-f8e6-4248-ace5-a4656f8b2771",
   "metadata": {},
   "outputs": [
    {
     "name": "stdout",
     "output_type": "stream",
     "text": [
      "                df       sum_sq      mean_sq          F        PR(>F)\n",
      "C(나무)          3.0  4783.353938  1594.451313  18.855528  6.600012e-10\n",
      "C(비료)          2.0  1127.924259   563.962129   6.669256  1.857612e-03\n",
      "C(나무):C(비료)    6.0   717.520672   119.586779   1.414199  2.157357e-01\n",
      "Residual     108.0  9132.639448    84.561476        NaN           NaN\n"
     ]
    }
   ],
   "source": [
    "model = ols('성장률 ~ C(나무) * C(비료)', data=df).fit()\n",
    "anova_table = sm.stats.anova_lm(model)\n",
    "print(anova_table)\n"
   ]
  },
  {
   "cell_type": "code",
   "execution_count": null,
   "id": "a3932712-9cd3-4603-8560-d4b51bd3785f",
   "metadata": {},
   "outputs": [],
   "source": [
    "# ------------------------------------------------------"
   ]
  },
  {
   "cell_type": "code",
   "execution_count": 7,
   "id": "72373dbd-e2b1-4233-83b1-68cb13030053",
   "metadata": {},
   "outputs": [],
   "source": [
    "import pandas as pd\n",
    "df_3 = pd.read_csv('train.csv')"
   ]
  },
  {
   "cell_type": "code",
   "execution_count": 8,
   "id": "683ce41f-e3fb-43e9-bf4f-6790e2e29fb2",
   "metadata": {},
   "outputs": [],
   "source": [
    "# 결측치 이상치 제거\n",
    "m = df_3['workclass'].mode()[0]\n",
    "df_3['workclass'] = df_3['workclass'].fillna(m)"
   ]
  },
  {
   "cell_type": "code",
   "execution_count": 9,
   "id": "b8184301-dfc9-46f4-a0a7-74b292bc683d",
   "metadata": {},
   "outputs": [],
   "source": [
    "df_3[\"income_code\"] = df_3[\"income\"].map({'<=50K':0, '>50K':1})"
   ]
  },
  {
   "cell_type": "code",
   "execution_count": 10,
   "id": "28141fbf-06c9-4186-a6d8-31ca5b411047",
   "metadata": {},
   "outputs": [
    {
     "name": "stdout",
     "output_type": "stream",
     "text": [
      "                                df       sum_sq    mean_sq           F  \\\n",
      "C(workclass)                   7.0   149.623342  21.374763  137.975427   \n",
      "C(education)                  15.0   648.602960  43.240197  279.118166   \n",
      "C(workclass):C(education)    105.0    28.412960   0.270600    1.746737   \n",
      "Residual                   29204.0  4524.201131   0.154917         NaN   \n",
      "\n",
      "                                  PR(>F)  \n",
      "C(workclass)               6.632449e-201  \n",
      "C(education)                0.000000e+00  \n",
      "C(workclass):C(education)   3.624615e-06  \n",
      "Residual                             NaN  \n"
     ]
    }
   ],
   "source": [
    "from statsmodels.formula.api import ols\n",
    "from statsmodels.stats.anova import anova_lm\n",
    "model = ols('income_code ~ C(workclass) *C(education)', df_3).fit()\n",
    "print(anova_lm(model))"
   ]
  },
  {
   "cell_type": "code",
   "execution_count": null,
   "id": "82e2ab58-a8f0-440e-9f3d-c14b6d100b70",
   "metadata": {},
   "outputs": [],
   "source": []
  }
 ],
 "metadata": {
  "kernelspec": {
   "display_name": "Python 3 (ipykernel)",
   "language": "python",
   "name": "python3"
  },
  "language_info": {
   "codemirror_mode": {
    "name": "ipython",
    "version": 3
   },
   "file_extension": ".py",
   "mimetype": "text/x-python",
   "name": "python",
   "nbconvert_exporter": "python",
   "pygments_lexer": "ipython3",
   "version": "3.11.6"
  }
 },
 "nbformat": 4,
 "nbformat_minor": 5
}
