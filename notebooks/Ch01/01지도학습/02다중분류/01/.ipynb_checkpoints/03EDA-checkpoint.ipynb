{
 "cells": [
  {
   "cell_type": "markdown",
   "id": "65418808-4fb2-457d-a7d6-65a504d9af07",
   "metadata": {},
   "source": [
    "# 문제정의\n",
    "## "
   ]
  },
  {
   "cell_type": "code",
   "execution_count": null,
   "id": "8561e572-005c-481a-a46d-10aea473cd03",
   "metadata": {},
   "outputs": [],
   "source": [
    "# ----------------------------------\n",
    "# 라이브러리 가져오기\n",
    "# ----------------------------------"
   ]
  },
  {
   "cell_type": "code",
   "execution_count": 1,
   "id": "ea8fc61c-fdd6-401e-b795-9a6d23839808",
   "metadata": {},
   "outputs": [],
   "source": [
    "import pandas as pd\n",
    "\n",
    "train = pd.read_csv('./train.csv')\n",
    "test = pd.read_csv('./test.csv')\n"
   ]
  },
  {
   "cell_type": "code",
   "execution_count": null,
   "id": "c262ea55-c89d-4c05-989a-9e68c6a650a7",
   "metadata": {},
   "outputs": [],
   "source": [
    "train\n"
   ]
  }
 ],
 "metadata": {
  "kernelspec": {
   "display_name": "Python 3 (ipykernel)",
   "language": "python",
   "name": "python3"
  },
  "language_info": {
   "codemirror_mode": {
    "name": "ipython",
    "version": 3
   },
   "file_extension": ".py",
   "mimetype": "text/x-python",
   "name": "python",
   "nbconvert_exporter": "python",
   "pygments_lexer": "ipython3",
   "version": "3.11.6"
  }
 },
 "nbformat": 4,
 "nbformat_minor": 5
}
