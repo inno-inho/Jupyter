{
 "cells": [
  {
   "cell_type": "code",
   "execution_count": 1,
   "id": "cac54795-a11a-40be-bd0f-601403e4824d",
   "metadata": {},
   "outputs": [],
   "source": [
    "# 파일 불러오기\n",
    "\n",
    "import pandas as pd\n",
    "\n",
    "train = pd.read_csv('./train (1).csv')\n",
    "test = pd.read_csv('./test (1).csv')"
   ]
  },
  {
   "cell_type": "code",
   "execution_count": 2,
   "id": "252a2cca-a703-41dc-91ab-18412221843f",
   "metadata": {},
   "outputs": [
    {
     "data": {
      "text/plain": [
       "0"
      ]
     },
     "execution_count": 2,
     "metadata": {},
     "output_type": "execute_result"
    }
   ],
   "source": [
    "train.isnull().sum().sum()"
   ]
  },
  {
   "cell_type": "code",
   "execution_count": 3,
   "id": "ca7a4c47-520c-401d-a30e-49f83b9b336a",
   "metadata": {},
   "outputs": [
    {
     "data": {
      "text/html": [
       "<div>\n",
       "<style scoped>\n",
       "    .dataframe tbody tr th:only-of-type {\n",
       "        vertical-align: middle;\n",
       "    }\n",
       "\n",
       "    .dataframe tbody tr th {\n",
       "        vertical-align: top;\n",
       "    }\n",
       "\n",
       "    .dataframe thead th {\n",
       "        text-align: right;\n",
       "    }\n",
       "</style>\n",
       "<table border=\"1\" class=\"dataframe\">\n",
       "  <thead>\n",
       "    <tr style=\"text-align: right;\">\n",
       "      <th></th>\n",
       "      <th>id</th>\n",
       "      <th>Age</th>\n",
       "      <th>Height</th>\n",
       "      <th>Weight</th>\n",
       "      <th>FCVC</th>\n",
       "      <th>NCP</th>\n",
       "      <th>CH2O</th>\n",
       "      <th>FAF</th>\n",
       "      <th>TUE</th>\n",
       "    </tr>\n",
       "  </thead>\n",
       "  <tbody>\n",
       "    <tr>\n",
       "      <th>count</th>\n",
       "      <td>20758.00000</td>\n",
       "      <td>20758.000000</td>\n",
       "      <td>20758.000000</td>\n",
       "      <td>20758.000000</td>\n",
       "      <td>20758.000000</td>\n",
       "      <td>20758.000000</td>\n",
       "      <td>20758.000000</td>\n",
       "      <td>20758.000000</td>\n",
       "      <td>20758.000000</td>\n",
       "    </tr>\n",
       "    <tr>\n",
       "      <th>mean</th>\n",
       "      <td>10378.50000</td>\n",
       "      <td>23.841804</td>\n",
       "      <td>1.700245</td>\n",
       "      <td>87.887768</td>\n",
       "      <td>2.445908</td>\n",
       "      <td>2.761332</td>\n",
       "      <td>2.029418</td>\n",
       "      <td>0.981747</td>\n",
       "      <td>0.616756</td>\n",
       "    </tr>\n",
       "    <tr>\n",
       "      <th>std</th>\n",
       "      <td>5992.46278</td>\n",
       "      <td>5.688072</td>\n",
       "      <td>0.087312</td>\n",
       "      <td>26.379443</td>\n",
       "      <td>0.533218</td>\n",
       "      <td>0.705375</td>\n",
       "      <td>0.608467</td>\n",
       "      <td>0.838302</td>\n",
       "      <td>0.602113</td>\n",
       "    </tr>\n",
       "    <tr>\n",
       "      <th>min</th>\n",
       "      <td>0.00000</td>\n",
       "      <td>14.000000</td>\n",
       "      <td>1.450000</td>\n",
       "      <td>39.000000</td>\n",
       "      <td>1.000000</td>\n",
       "      <td>1.000000</td>\n",
       "      <td>1.000000</td>\n",
       "      <td>0.000000</td>\n",
       "      <td>0.000000</td>\n",
       "    </tr>\n",
       "    <tr>\n",
       "      <th>25%</th>\n",
       "      <td>5189.25000</td>\n",
       "      <td>20.000000</td>\n",
       "      <td>1.631856</td>\n",
       "      <td>66.000000</td>\n",
       "      <td>2.000000</td>\n",
       "      <td>3.000000</td>\n",
       "      <td>1.792022</td>\n",
       "      <td>0.008013</td>\n",
       "      <td>0.000000</td>\n",
       "    </tr>\n",
       "    <tr>\n",
       "      <th>50%</th>\n",
       "      <td>10378.50000</td>\n",
       "      <td>22.815416</td>\n",
       "      <td>1.700000</td>\n",
       "      <td>84.064875</td>\n",
       "      <td>2.393837</td>\n",
       "      <td>3.000000</td>\n",
       "      <td>2.000000</td>\n",
       "      <td>1.000000</td>\n",
       "      <td>0.573887</td>\n",
       "    </tr>\n",
       "    <tr>\n",
       "      <th>75%</th>\n",
       "      <td>15567.75000</td>\n",
       "      <td>26.000000</td>\n",
       "      <td>1.762887</td>\n",
       "      <td>111.600553</td>\n",
       "      <td>3.000000</td>\n",
       "      <td>3.000000</td>\n",
       "      <td>2.549617</td>\n",
       "      <td>1.587406</td>\n",
       "      <td>1.000000</td>\n",
       "    </tr>\n",
       "    <tr>\n",
       "      <th>max</th>\n",
       "      <td>20757.00000</td>\n",
       "      <td>61.000000</td>\n",
       "      <td>1.975663</td>\n",
       "      <td>165.057269</td>\n",
       "      <td>3.000000</td>\n",
       "      <td>4.000000</td>\n",
       "      <td>3.000000</td>\n",
       "      <td>3.000000</td>\n",
       "      <td>2.000000</td>\n",
       "    </tr>\n",
       "  </tbody>\n",
       "</table>\n",
       "</div>"
      ],
      "text/plain": [
       "                id           Age        Height        Weight          FCVC  \\\n",
       "count  20758.00000  20758.000000  20758.000000  20758.000000  20758.000000   \n",
       "mean   10378.50000     23.841804      1.700245     87.887768      2.445908   \n",
       "std     5992.46278      5.688072      0.087312     26.379443      0.533218   \n",
       "min        0.00000     14.000000      1.450000     39.000000      1.000000   \n",
       "25%     5189.25000     20.000000      1.631856     66.000000      2.000000   \n",
       "50%    10378.50000     22.815416      1.700000     84.064875      2.393837   \n",
       "75%    15567.75000     26.000000      1.762887    111.600553      3.000000   \n",
       "max    20757.00000     61.000000      1.975663    165.057269      3.000000   \n",
       "\n",
       "                NCP          CH2O           FAF           TUE  \n",
       "count  20758.000000  20758.000000  20758.000000  20758.000000  \n",
       "mean       2.761332      2.029418      0.981747      0.616756  \n",
       "std        0.705375      0.608467      0.838302      0.602113  \n",
       "min        1.000000      1.000000      0.000000      0.000000  \n",
       "25%        3.000000      1.792022      0.008013      0.000000  \n",
       "50%        3.000000      2.000000      1.000000      0.573887  \n",
       "75%        3.000000      2.549617      1.587406      1.000000  \n",
       "max        4.000000      3.000000      3.000000      2.000000  "
      ]
     },
     "execution_count": 3,
     "metadata": {},
     "output_type": "execute_result"
    }
   ],
   "source": [
    "train.describe()"
   ]
  },
  {
   "cell_type": "code",
   "execution_count": 4,
   "id": "9dab5711-3963-4069-b988-4dc26662796f",
   "metadata": {},
   "outputs": [
    {
     "name": "stdout",
     "output_type": "stream",
     "text": [
      "<class 'pandas.core.frame.DataFrame'>\n",
      "RangeIndex: 20758 entries, 0 to 20757\n",
      "Data columns (total 18 columns):\n",
      " #   Column                          Non-Null Count  Dtype  \n",
      "---  ------                          --------------  -----  \n",
      " 0   id                              20758 non-null  int64  \n",
      " 1   Gender                          20758 non-null  object \n",
      " 2   Age                             20758 non-null  float64\n",
      " 3   Height                          20758 non-null  float64\n",
      " 4   Weight                          20758 non-null  float64\n",
      " 5   family_history_with_overweight  20758 non-null  object \n",
      " 6   FAVC                            20758 non-null  object \n",
      " 7   FCVC                            20758 non-null  float64\n",
      " 8   NCP                             20758 non-null  float64\n",
      " 9   CAEC                            20758 non-null  object \n",
      " 10  SMOKE                           20758 non-null  object \n",
      " 11  CH2O                            20758 non-null  float64\n",
      " 12  SCC                             20758 non-null  object \n",
      " 13  FAF                             20758 non-null  float64\n",
      " 14  TUE                             20758 non-null  float64\n",
      " 15  CALC                            20758 non-null  object \n",
      " 16  MTRANS                          20758 non-null  object \n",
      " 17  NObeyesdad                      20758 non-null  object \n",
      "dtypes: float64(8), int64(1), object(9)\n",
      "memory usage: 2.9+ MB\n"
     ]
    }
   ],
   "source": [
    "train.info()\n",
    "\n",
    "# id는 지울거야"
   ]
  },
  {
   "cell_type": "code",
   "execution_count": 5,
   "id": "0d6b8694-551f-4a20-9d22-e3d578419873",
   "metadata": {},
   "outputs": [
    {
     "data": {
      "text/html": [
       "<div>\n",
       "<style scoped>\n",
       "    .dataframe tbody tr th:only-of-type {\n",
       "        vertical-align: middle;\n",
       "    }\n",
       "\n",
       "    .dataframe tbody tr th {\n",
       "        vertical-align: top;\n",
       "    }\n",
       "\n",
       "    .dataframe thead th {\n",
       "        text-align: right;\n",
       "    }\n",
       "</style>\n",
       "<table border=\"1\" class=\"dataframe\">\n",
       "  <thead>\n",
       "    <tr style=\"text-align: right;\">\n",
       "      <th></th>\n",
       "      <th>Gender</th>\n",
       "      <th>family_history_with_overweight</th>\n",
       "      <th>FAVC</th>\n",
       "      <th>CAEC</th>\n",
       "      <th>SMOKE</th>\n",
       "      <th>SCC</th>\n",
       "      <th>CALC</th>\n",
       "      <th>MTRANS</th>\n",
       "      <th>NObeyesdad</th>\n",
       "    </tr>\n",
       "  </thead>\n",
       "  <tbody>\n",
       "    <tr>\n",
       "      <th>count</th>\n",
       "      <td>20758</td>\n",
       "      <td>20758</td>\n",
       "      <td>20758</td>\n",
       "      <td>20758</td>\n",
       "      <td>20758</td>\n",
       "      <td>20758</td>\n",
       "      <td>20758</td>\n",
       "      <td>20758</td>\n",
       "      <td>20758</td>\n",
       "    </tr>\n",
       "    <tr>\n",
       "      <th>unique</th>\n",
       "      <td>2</td>\n",
       "      <td>2</td>\n",
       "      <td>2</td>\n",
       "      <td>4</td>\n",
       "      <td>2</td>\n",
       "      <td>2</td>\n",
       "      <td>3</td>\n",
       "      <td>5</td>\n",
       "      <td>7</td>\n",
       "    </tr>\n",
       "    <tr>\n",
       "      <th>top</th>\n",
       "      <td>Female</td>\n",
       "      <td>yes</td>\n",
       "      <td>yes</td>\n",
       "      <td>Sometimes</td>\n",
       "      <td>no</td>\n",
       "      <td>no</td>\n",
       "      <td>Sometimes</td>\n",
       "      <td>Public_Transportation</td>\n",
       "      <td>Obesity_Type_III</td>\n",
       "    </tr>\n",
       "    <tr>\n",
       "      <th>freq</th>\n",
       "      <td>10422</td>\n",
       "      <td>17014</td>\n",
       "      <td>18982</td>\n",
       "      <td>17529</td>\n",
       "      <td>20513</td>\n",
       "      <td>20071</td>\n",
       "      <td>15066</td>\n",
       "      <td>16687</td>\n",
       "      <td>4046</td>\n",
       "    </tr>\n",
       "  </tbody>\n",
       "</table>\n",
       "</div>"
      ],
      "text/plain": [
       "        Gender family_history_with_overweight   FAVC       CAEC  SMOKE    SCC  \\\n",
       "count    20758                          20758  20758      20758  20758  20758   \n",
       "unique       2                              2      2          4      2      2   \n",
       "top     Female                            yes    yes  Sometimes     no     no   \n",
       "freq     10422                          17014  18982      17529  20513  20071   \n",
       "\n",
       "             CALC                 MTRANS        NObeyesdad  \n",
       "count       20758                  20758             20758  \n",
       "unique          3                      5                 7  \n",
       "top     Sometimes  Public_Transportation  Obesity_Type_III  \n",
       "freq        15066                  16687              4046  "
      ]
     },
     "execution_count": 5,
     "metadata": {},
     "output_type": "execute_result"
    }
   ],
   "source": [
    "train.describe(include = \"O\")"
   ]
  },
  {
   "cell_type": "code",
   "execution_count": 6,
   "id": "013b6bbb-4ddc-497b-a3bf-ba1e164cc410",
   "metadata": {},
   "outputs": [
    {
     "data": {
      "text/plain": [
       "NObeyesdad\n",
       "Obesity_Type_III       4046\n",
       "Obesity_Type_II        3248\n",
       "Normal_Weight          3082\n",
       "Obesity_Type_I         2910\n",
       "Insufficient_Weight    2523\n",
       "Overweight_Level_II    2522\n",
       "Overweight_Level_I     2427\n",
       "Name: count, dtype: int64"
      ]
     },
     "execution_count": 6,
     "metadata": {},
     "output_type": "execute_result"
    }
   ],
   "source": [
    "train['NObeyesdad'].value_counts()"
   ]
  },
  {
   "cell_type": "markdown",
   "id": "7c79cedf-7f69-4d79-8f9a-35060ad1ef9b",
   "metadata": {},
   "source": [
    "## 데이터 전처리"
   ]
  },
  {
   "cell_type": "code",
   "execution_count": 7,
   "id": "51171e66-2fe6-4d9b-be9b-e39a9125e0d2",
   "metadata": {},
   "outputs": [],
   "source": [
    "# id 컬럼 제거\n",
    "train = train.drop(columns=[\"id\"])\n",
    "test = test.drop(columns=[\"id\"])"
   ]
  },
  {
   "cell_type": "code",
   "execution_count": 8,
   "id": "ba48bf0e-9b21-474b-ba2a-437f401895f9",
   "metadata": {},
   "outputs": [
    {
     "name": "stdout",
     "output_type": "stream",
     "text": [
      "<class 'pandas.core.series.Series'>\n",
      "RangeIndex: 20758 entries, 0 to 20757\n",
      "Series name: NObeyesdad\n",
      "Non-Null Count  Dtype   \n",
      "--------------  -----   \n",
      "20758 non-null  category\n",
      "dtypes: category(1)\n",
      "memory usage: 20.7 KB\n"
     ]
    }
   ],
   "source": [
    "# y값 분리\n",
    "\n",
    "target = train.pop('NObeyesdad')\n",
    "\n",
    "# dtype -> 카테고리 변환\n",
    "\n",
    "target = target.astype('category')\n",
    "target.info()"
   ]
  },
  {
   "cell_type": "code",
   "execution_count": 9,
   "id": "c3c2ed06-0927-4cc1-88c4-680baa5c1792",
   "metadata": {},
   "outputs": [],
   "source": [
    "# train / test object -> category"
   ]
  },
  {
   "cell_type": "code",
   "execution_count": 10,
   "id": "6eec6923-ea69-4102-996b-07242ec6f623",
   "metadata": {},
   "outputs": [
    {
     "name": "stdout",
     "output_type": "stream",
     "text": [
      "<class 'pandas.core.frame.DataFrame'>\n",
      "RangeIndex: 20758 entries, 0 to 20757\n",
      "Data columns (total 16 columns):\n",
      " #   Column                          Non-Null Count  Dtype   \n",
      "---  ------                          --------------  -----   \n",
      " 0   Gender                          20758 non-null  category\n",
      " 1   Age                             20758 non-null  float64 \n",
      " 2   Height                          20758 non-null  float64 \n",
      " 3   Weight                          20758 non-null  float64 \n",
      " 4   family_history_with_overweight  20758 non-null  category\n",
      " 5   FAVC                            20758 non-null  category\n",
      " 6   FCVC                            20758 non-null  float64 \n",
      " 7   NCP                             20758 non-null  float64 \n",
      " 8   CAEC                            20758 non-null  category\n",
      " 9   SMOKE                           20758 non-null  category\n",
      " 10  CH2O                            20758 non-null  float64 \n",
      " 11  SCC                             20758 non-null  category\n",
      " 12  FAF                             20758 non-null  float64 \n",
      " 13  TUE                             20758 non-null  float64 \n",
      " 14  CALC                            20758 non-null  category\n",
      " 15  MTRANS                          20758 non-null  category\n",
      "dtypes: category(8), float64(8)\n",
      "memory usage: 1.4 MB\n"
     ]
    }
   ],
   "source": [
    "\n",
    "train['family_history_with_overweight'] = train['family_history_with_overweight'].astype('category')\n",
    "train['Gender'] = train['Gender'].astype('category')\n",
    "train['FAVC'] = train['FAVC'].astype('category')\n",
    "train['CAEC'] = train['CAEC'].astype('category')\n",
    "train['SMOKE'] = train['SMOKE'].astype('category')\n",
    "train['SCC'] = train['SCC'].astype('category')\n",
    "train['CALC'] = train['CALC'].astype('category')\n",
    "train['MTRANS'] = train['MTRANS'].astype('category')\n",
    "\n",
    "test['family_history_with_overweight'] = test['family_history_with_overweight'].astype('category')\n",
    "test['Gender'] = test['Gender'].astype('category')\n",
    "test['FAVC'] = test['FAVC'].astype('category')\n",
    "test['CAEC'] = test['CAEC'].astype('category')\n",
    "test['SMOKE'] = test['SMOKE'].astype('category')\n",
    "test['SCC'] = test['SCC'].astype('category')\n",
    "test['CALC'] = test['CALC'].astype('category')\n",
    "test['MTRANS'] = test['MTRANS'].astype('category')\n",
    "\n",
    "train.info()"
   ]
  },
  {
   "cell_type": "code",
   "execution_count": null,
   "id": "5715ff10-b577-4280-ad6b-36939bcff04d",
   "metadata": {},
   "outputs": [],
   "source": []
  },
  {
   "cell_type": "code",
   "execution_count": 12,
   "id": "23b1047c-5e1e-4a07-83d6-a517fe4c72f7",
   "metadata": {},
   "outputs": [
    {
     "data": {
      "text/plain": [
       "((16606, 16), (4152, 16), (16606,), (4152,))"
      ]
     },
     "execution_count": 12,
     "metadata": {},
     "output_type": "execute_result"
    }
   ],
   "source": [
    "from sklearn.model_selection import train_test_split\n",
    "\n",
    "X_train, X_val, y_train, y_val = train_test_split(train,\n",
    "                                                  target,\n",
    "                                                  test_size=0.2,\n",
    "                                                  random_state=0)\n",
    "X_train.shape, X_val.shape, y_train.shape, y_val.shape"
   ]
  },
  {
   "cell_type": "markdown",
   "id": "72c315b8-08de-4175-8d65-8d2ea2a6637a",
   "metadata": {},
   "source": [
    "## 모델 학습 및 평가"
   ]
  },
  {
   "cell_type": "code",
   "execution_count": 15,
   "id": "14c3e861-0bdd-4cbd-8e5a-24ff8234fdf8",
   "metadata": {},
   "outputs": [
    {
     "data": {
      "text/plain": [
       "array([[2.90805551e-08, 6.39602101e-08, 4.10839722e-06, ...,\n",
       "        9.99994651e-01, 1.12529061e-07, 5.59060834e-07],\n",
       "       [8.63231635e-05, 4.50222123e-02, 1.75378930e-03, ...,\n",
       "        1.31236325e-04, 9.45185222e-01, 7.79864404e-03],\n",
       "       [1.12499905e-02, 9.88092184e-01, 1.00491286e-04, ...,\n",
       "        1.41198513e-05, 4.71605137e-04, 6.07612347e-05],\n",
       "       ...,\n",
       "       [5.75651615e-08, 1.10722587e-07, 4.03152631e-06, ...,\n",
       "        9.99994161e-01, 1.14170031e-07, 4.40521512e-07],\n",
       "       [1.15931447e-05, 1.33438111e-05, 2.85902112e-03, ...,\n",
       "        1.19446978e-06, 1.52928117e-05, 4.53855722e-05],\n",
       "       [3.90555211e-05, 1.64299527e-04, 9.34856361e-01, ...,\n",
       "        1.79325944e-05, 2.26256282e-03, 6.17659318e-02]])"
      ]
     },
     "execution_count": 15,
     "metadata": {},
     "output_type": "execute_result"
    }
   ],
   "source": [
    "import lightgbm as lgb\n",
    "# 학습\n",
    "lgbmc = lgb.LGBMClassifier(random_state=0, verbose=-1)\n",
    "lgbmc.fit(X_train, y_train)\n",
    "# 검증\n",
    "pred = lgbmc.predict(X_val)\n",
    "pred_proba = lgbmc.predict_proba(X_val)\n",
    "\n",
    "# verbose : 학습과정 출력여부\n",
    "# 0: 경고수준출력 1: 일반정보 출력, >2: 제사한 정보 출력\n",
    "pred_proba"
   ]
  },
  {
   "cell_type": "code",
   "execution_count": 18,
   "id": "89a43abb-b515-480a-a6f7-bc47d516c6c7",
   "metadata": {},
   "outputs": [
    {
     "name": "stdout",
     "output_type": "stream",
     "text": [
      "roc_auc_ovr:  0.9888169248146651\n",
      "roc_auc_ovo:  0.9874571729788963\n",
      "accuracy:  0.9051059730250481\n",
      "f1:  0.8949765427420396\n"
     ]
    }
   ],
   "source": [
    "# 평가(roc_auc, accuracy, f1-score)\n",
    "\n",
    "from sklearn.metrics import accuracy_score\n",
    "from sklearn.metrics import f1_score\n",
    "from sklearn.metrics import roc_auc_score\n",
    "\n",
    "roc_auc_ovr = roc_auc_score(y_val, pred_proba, multi_class=\"ovr\")\n",
    "roc_auc_ovo = roc_auc_score(y_val, pred_proba, multi_class=\"ovo\")\n",
    "accuracy = accuracy_score(y_val, pred) # pred 예측 y값\n",
    "f1 = f1_score(y_val, pred, average = 'macro') # pred 예측 y값(클래스별(1,2,3정답값) 성능을 동등하게 반영)\n",
    "\n",
    "print('roc_auc_ovr: ', roc_auc_ovr)\n",
    "print('roc_auc_ovo: ', roc_auc_ovo)\n",
    "print('accuracy: ', accuracy)\n",
    "print('f1: ', f1)"
   ]
  },
  {
   "cell_type": "code",
   "execution_count": 21,
   "id": "b2444d55-7b4a-4f2f-96fa-9161577fb27e",
   "metadata": {},
   "outputs": [
    {
     "data": {
      "text/plain": [
       "array(['Obesity_Type_II', 'Overweight_Level_I', 'Obesity_Type_III', ...,\n",
       "       'Insufficient_Weight', 'Normal_Weight', 'Obesity_Type_II'],\n",
       "      dtype=object)"
      ]
     },
     "execution_count": 21,
     "metadata": {},
     "output_type": "execute_result"
    }
   ],
   "source": [
    "# 예측 파일 제출\n",
    "pred_submit = lgbmc.predict(test)\n",
    "pred_submit\n",
    "\n",
    "submit_csv = pd.DataFrame({'pred':pred_submit})\n",
    "submit_csv.to_csv(\"result.csv\", index = False)"
   ]
  },
  {
   "cell_type": "code",
   "execution_count": null,
   "id": "11e75a7a-ca80-4b2b-81f9-6f472dd7437d",
   "metadata": {},
   "outputs": [],
   "source": []
  }
 ],
 "metadata": {
  "kernelspec": {
   "display_name": "Python 3 (ipykernel)",
   "language": "python",
   "name": "python3"
  },
  "language_info": {
   "codemirror_mode": {
    "name": "ipython",
    "version": 3
   },
   "file_extension": ".py",
   "mimetype": "text/x-python",
   "name": "python",
   "nbconvert_exporter": "python",
   "pygments_lexer": "ipython3",
   "version": "3.11.6"
  }
 },
 "nbformat": 4,
 "nbformat_minor": 5
}
