{
 "cells": [
  {
   "cell_type": "markdown",
   "id": "234691fc-c672-4bb3-9614-cbb030f397ba",
   "metadata": {},
   "source": [
    "### ------------------------------------------------------------\n",
    "### 로지스틱 회귀(Logistic Regression) - 범주형 예측\n",
    "### ------------------------------------------------------------\n",
    "\n",
    "##### - Y가 \"점수 자체\"가 아니라 \"합격/불합격\"처럼 **범주형**일 때 사용\n",
    "##### - 예) 시험 점수(y)를 바로 예측하는게 아니라\n",
    "##### \"합격(1) / 불합격(0)\" 을 예측\n",
    "##### - 공식적으로는 선형결과를 S자 곡선(시그모이드 함수)에 통과시켜 0~1 확률로 변환\n",
    "\n",
    "##### 예시:\n",
    "##### - 공부시간 20시간 -> 합격 확률 80% (Y = 1일 가능성 높음)\n",
    "##### - 공부시간 2시간 -> 합격 확률10% (Y = 0일 가능헝 높음)"
   ]
  },
  {
   "cell_type": "code",
   "execution_count": 8,
   "id": "a1708001-12a5-4884-adeb-b289ea018541",
   "metadata": {},
   "outputs": [
    {
     "data": {
      "text/html": [
       "<div>\n",
       "<style scoped>\n",
       "    .dataframe tbody tr th:only-of-type {\n",
       "        vertical-align: middle;\n",
       "    }\n",
       "\n",
       "    .dataframe tbody tr th {\n",
       "        vertical-align: top;\n",
       "    }\n",
       "\n",
       "    .dataframe thead th {\n",
       "        text-align: right;\n",
       "    }\n",
       "</style>\n",
       "<table border=\"1\" class=\"dataframe\">\n",
       "  <thead>\n",
       "    <tr style=\"text-align: right;\">\n",
       "      <th></th>\n",
       "      <th>age</th>\n",
       "      <th>bmi</th>\n",
       "      <th>smoker</th>\n",
       "      <th>activity_level</th>\n",
       "      <th>disease</th>\n",
       "    </tr>\n",
       "  </thead>\n",
       "  <tbody>\n",
       "    <tr>\n",
       "      <th>0</th>\n",
       "      <td>62</td>\n",
       "      <td>35.179089</td>\n",
       "      <td>0</td>\n",
       "      <td>0</td>\n",
       "      <td>1</td>\n",
       "    </tr>\n",
       "    <tr>\n",
       "      <th>1</th>\n",
       "      <td>65</td>\n",
       "      <td>18.576042</td>\n",
       "      <td>0</td>\n",
       "      <td>2</td>\n",
       "      <td>1</td>\n",
       "    </tr>\n",
       "    <tr>\n",
       "      <th>2</th>\n",
       "      <td>71</td>\n",
       "      <td>33.178426</td>\n",
       "      <td>0</td>\n",
       "      <td>1</td>\n",
       "      <td>1</td>\n",
       "    </tr>\n",
       "    <tr>\n",
       "      <th>3</th>\n",
       "      <td>18</td>\n",
       "      <td>37.063007</td>\n",
       "      <td>1</td>\n",
       "      <td>2</td>\n",
       "      <td>0</td>\n",
       "    </tr>\n",
       "    <tr>\n",
       "      <th>4</th>\n",
       "      <td>21</td>\n",
       "      <td>17.613266</td>\n",
       "      <td>0</td>\n",
       "      <td>0</td>\n",
       "      <td>0</td>\n",
       "    </tr>\n",
       "    <tr>\n",
       "      <th>...</th>\n",
       "      <td>...</td>\n",
       "      <td>...</td>\n",
       "      <td>...</td>\n",
       "      <td>...</td>\n",
       "      <td>...</td>\n",
       "    </tr>\n",
       "    <tr>\n",
       "      <th>995</th>\n",
       "      <td>75</td>\n",
       "      <td>23.600372</td>\n",
       "      <td>0</td>\n",
       "      <td>2</td>\n",
       "      <td>1</td>\n",
       "    </tr>\n",
       "    <tr>\n",
       "      <th>996</th>\n",
       "      <td>24</td>\n",
       "      <td>9.659333</td>\n",
       "      <td>0</td>\n",
       "      <td>2</td>\n",
       "      <td>0</td>\n",
       "    </tr>\n",
       "    <tr>\n",
       "      <th>997</th>\n",
       "      <td>37</td>\n",
       "      <td>25.959939</td>\n",
       "      <td>0</td>\n",
       "      <td>0</td>\n",
       "      <td>0</td>\n",
       "    </tr>\n",
       "    <tr>\n",
       "      <th>998</th>\n",
       "      <td>52</td>\n",
       "      <td>25.356929</td>\n",
       "      <td>0</td>\n",
       "      <td>1</td>\n",
       "      <td>1</td>\n",
       "    </tr>\n",
       "    <tr>\n",
       "      <th>999</th>\n",
       "      <td>68</td>\n",
       "      <td>25.375065</td>\n",
       "      <td>0</td>\n",
       "      <td>0</td>\n",
       "      <td>1</td>\n",
       "    </tr>\n",
       "  </tbody>\n",
       "</table>\n",
       "<p>1000 rows × 5 columns</p>\n",
       "</div>"
      ],
      "text/plain": [
       "     age        bmi  smoker  activity_level  disease\n",
       "0     62  35.179089       0               0        1\n",
       "1     65  18.576042       0               2        1\n",
       "2     71  33.178426       0               1        1\n",
       "3     18  37.063007       1               2        0\n",
       "4     21  17.613266       0               0        0\n",
       "..   ...        ...     ...             ...      ...\n",
       "995   75  23.600372       0               2        1\n",
       "996   24   9.659333       0               2        0\n",
       "997   37  25.959939       0               0        0\n",
       "998   52  25.356929       0               1        1\n",
       "999   68  25.375065       0               0        1\n",
       "\n",
       "[1000 rows x 5 columns]"
      ]
     },
     "execution_count": 8,
     "metadata": {},
     "output_type": "execute_result"
    }
   ],
   "source": [
    "# -----------------------------\n",
    "# 불러오기\n",
    "# -----------------------------\n",
    "import pandas as pd\n",
    "\n",
    "df = pd.read_csv(\"health_survey.csv\")\n",
    "# df = pd.read_csv(\"https://raw.githubusercontent.com/lovedlim/bigdata_analyst_cert/main/part3/ch5/health_survey.csv\")\n",
    "df"
   ]
  },
  {
   "cell_type": "code",
   "execution_count": 9,
   "id": "6fd87b3c-0835-43c2-b163-571c6833505f",
   "metadata": {},
   "outputs": [
    {
     "name": "stdout",
     "output_type": "stream",
     "text": [
      "Optimization terminated successfully.\n",
      "         Current function value: 0.643725\n",
      "         Iterations 5\n"
     ]
    }
   ],
   "source": [
    "# 모델학습\n",
    "from statsmodels.formula.api import logit\n",
    "\n",
    "model = logit('disease ~ age + bmi', data = df).fit()"
   ]
  },
  {
   "cell_type": "code",
   "execution_count": 10,
   "id": "d323dcca-abe6-4092-99f1-830c00d427f6",
   "metadata": {},
   "outputs": [
    {
     "name": "stdout",
     "output_type": "stream",
     "text": [
      "                           Logit Regression Results                           \n",
      "==============================================================================\n",
      "Dep. Variable:                disease   No. Observations:                 1000\n",
      "Model:                          Logit   Df Residuals:                      997\n",
      "Method:                           MLE   Df Model:                            2\n",
      "Date:                Mon, 13 Oct 2025   Pseudo R-squ.:                 0.04996\n",
      "Time:                        02:26:52   Log-Likelihood:                -643.72\n",
      "converged:                       True   LL-Null:                       -677.58\n",
      "Covariance Type:            nonrobust   LLR p-value:                 1.984e-15\n",
      "==============================================================================\n",
      "                 coef    std err          z      P>|z|      [0.025      0.975]\n",
      "------------------------------------------------------------------------------\n",
      "Intercept     -1.8700      0.289     -6.482      0.000      -2.435      -1.305\n",
      "age            0.0177      0.004      4.747      0.000       0.010       0.025\n",
      "bmi            0.0563      0.009      6.418      0.000       0.039       0.074\n",
      "==============================================================================\n"
     ]
    }
   ],
   "source": [
    "print(model.summary())"
   ]
  },
  {
   "cell_type": "code",
   "execution_count": 14,
   "id": "b6ec4fad-aeb5-411e-b8da-2d26e291e162",
   "metadata": {},
   "outputs": [
    {
     "name": "stdout",
     "output_type": "stream",
     "text": [
      "0.056333879687088535\n",
      "1.057950853075076\n"
     ]
    }
   ],
   "source": [
    "# 오즈비값 확인\n",
    "\n",
    "import numpy as np\n",
    "\n",
    "print(model.params['bmi']) # 회귀계수(coef)확인\n",
    "print(np.exp(model.params['bmi'])) # 오즈비(Ratio) 확인"
   ]
  },
  {
   "cell_type": "code",
   "execution_count": 15,
   "id": "2dce8949-43c1-49ae-ba90-bc8661779031",
   "metadata": {},
   "outputs": [
    {
     "name": "stdout",
     "output_type": "stream",
     "text": [
      "0.017705261174417463\n",
      "1.0178629284499419\n"
     ]
    }
   ],
   "source": [
    "import numpy as np\n",
    "\n",
    "print(model.params['age']) # 회귀계수(coef)확인\n",
    "print(np.exp(model.params['age'])) # 오즈비(Ratio) 확인\n"
   ]
  },
  {
   "cell_type": "code",
   "execution_count": null,
   "id": "718b1835-4b87-4cb8-8879-70799b02321c",
   "metadata": {},
   "outputs": [],
   "source": []
  },
  {
   "cell_type": "code",
   "execution_count": 17,
   "id": "784e1149-fbf3-444a-97b1-679a99b9852b",
   "metadata": {},
   "outputs": [
    {
     "data": {
      "text/plain": [
       "0.7155602793085757"
      ]
     },
     "execution_count": 17,
     "metadata": {},
     "output_type": "execute_result"
    }
   ],
   "source": [
    "# 질병확률 확인\n",
    "\n",
    "X_new =  pd.DataFrame([{\"age\" : 40, \"bmi\": 37.0}])\n",
    "pred = model.predict(X_new)[0]\n",
    "pred"
   ]
  },
  {
   "cell_type": "code",
   "execution_count": null,
   "id": "85dd479b-a5af-4d3b-96f0-e86eed863b92",
   "metadata": {},
   "outputs": [],
   "source": []
  }
 ],
 "metadata": {
  "kernelspec": {
   "display_name": "Python 3 (ipykernel)",
   "language": "python",
   "name": "python3"
  },
  "language_info": {
   "codemirror_mode": {
    "name": "ipython",
    "version": 3
   },
   "file_extension": ".py",
   "mimetype": "text/x-python",
   "name": "python",
   "nbconvert_exporter": "python",
   "pygments_lexer": "ipython3",
   "version": "3.11.6"
  }
 },
 "nbformat": 4,
 "nbformat_minor": 5
}
